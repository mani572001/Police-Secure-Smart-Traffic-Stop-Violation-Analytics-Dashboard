{
 "cells": [
  {
   "cell_type": "code",
   "execution_count": 18,
   "id": "ce534420",
   "metadata": {},
   "outputs": [],
   "source": [
    "import pandas as pd\n",
    "import pymysql\n",
    "import numpy as np\n",
    "from tabulate import tabulate"
   ]
  },
  {
   "cell_type": "code",
   "execution_count": 15,
   "id": "e398bc2b",
   "metadata": {},
   "outputs": [
    {
     "name": "stdout",
     "output_type": "stream",
     "text": [
      "    stop_date stop_time country_name driver_gender  driver_age_raw  \\\n",
      "0  2020-01-01   0:00:00       Canada             M              59   \n",
      "1  2020-01-01   0:01:00        India             M              35   \n",
      "2  2020-01-01   0:02:00          USA             M              26   \n",
      "3  2020-01-01   0:03:00       Canada             M              26   \n",
      "4  2020-01-01   0:04:00       Canada             M              62   \n",
      "\n",
      "   driver_age driver_race     violation_raw violation  search_conducted  \\\n",
      "0          19       Asian     Drunk Driving  Speeding              True   \n",
      "1          58       Other             Other     Other             False   \n",
      "2          76       Black  Signal Violation  Speeding             False   \n",
      "3          76       Black          Speeding       DUI              True   \n",
      "4          75       Other          Speeding     Other             False   \n",
      "\n",
      "      search_type stop_outcome  is_arrested stop_duration  drugs_related_stop  \\\n",
      "0  Vehicle Search       Ticket         True     16-30 Min                True   \n",
      "1  Vehicle Search       Arrest         True     16-30 Min                True   \n",
      "2           Frisk       Ticket         True     16-30 Min                True   \n",
      "3           Frisk      Warning        False      0-15 Min                True   \n",
      "4  Vehicle Search       Arrest         True     16-30 Min               False   \n",
      "\n",
      "  vehicle_number  \n",
      "0     UP76DY3473  \n",
      "1     RJ83PZ4441  \n",
      "2     RJ32OM7264  \n",
      "3     RJ76TI3807  \n",
      "4     WB63BB8305  \n"
     ]
    },
    {
     "name": "stderr",
     "output_type": "stream",
     "text": [
      "C:\\Users\\MANEE\\AppData\\Local\\Temp\\ipykernel_14780\\4135857335.py:1: DtypeWarning: Columns (10) have mixed types. Specify dtype option on import or set low_memory=False.\n",
      "  df = pd.read_csv(r\"F:\\vscode\\traffic_stops.csv\")\n"
     ]
    }
   ],
   "source": [
    "df = pd.read_csv(r\"F:\\vscode\\traffic_stops.csv\")\n",
    "print(df.head(5))\n"
   ]
  },
  {
   "cell_type": "code",
   "execution_count": 16,
   "id": "c6489f5b",
   "metadata": {},
   "outputs": [
    {
     "name": "stdout",
     "output_type": "stream",
     "text": [
      "Before filling nulls:\n",
      " stop_date                 0\n",
      "stop_time                 0\n",
      "country_name              0\n",
      "driver_gender             0\n",
      "driver_age_raw            0\n",
      "driver_age                0\n",
      "driver_race               0\n",
      "violation_raw             0\n",
      "violation                 0\n",
      "search_conducted          0\n",
      "search_type           21720\n",
      "stop_outcome              0\n",
      "is_arrested               0\n",
      "stop_duration             0\n",
      "drugs_related_stop        0\n",
      "vehicle_number            0\n",
      "dtype: int64\n"
     ]
    }
   ],
   "source": [
    "print(\"Before filling nulls:\\n\", df.isnull().sum())"
   ]
  },
  {
   "cell_type": "code",
   "execution_count": 19,
   "id": "737b4e16",
   "metadata": {},
   "outputs": [],
   "source": [
    "# Replace NaN with None for MySQL compatibility\n",
    "df = df.replace({np.nan: None})"
   ]
  },
  {
   "cell_type": "code",
   "execution_count": 20,
   "id": "36398320",
   "metadata": {},
   "outputs": [
    {
     "name": "stderr",
     "output_type": "stream",
     "text": [
      "C:\\Users\\MANEE\\AppData\\Local\\Temp\\ipykernel_14780\\1427496722.py:3: UserWarning: Could not infer format, so each element will be parsed individually, falling back to `dateutil`. To ensure parsing is consistent and as-expected, please specify a format.\n",
      "  df['stop_time'] = pd.to_datetime(df['stop_time'], errors='coerce').dt.time\n"
     ]
    },
    {
     "name": "stdout",
     "output_type": "stream",
     "text": [
      "🧹 Data cleaned successfully!\n"
     ]
    }
   ],
   "source": [
    "#Convert date and time columns properly\n",
    "df['stop_date'] = pd.to_datetime(df['stop_date'], errors='coerce').dt.date\n",
    "df['stop_time'] = pd.to_datetime(df['stop_time'], errors='coerce').dt.time\n",
    "\n",
    "# Fill missing times as None (MySQL NULL)\n",
    "df['stop_time'] = df['stop_time'].apply(lambda x: x if pd.notnull(x) else None)\n",
    "\n",
    "# Fill missing search_type values\n",
    "df['search_type'] = df['search_type'].apply(lambda x: x if x is not None else 'unknown')\n",
    "\n",
    "print(\"🧹 Data cleaned successfully!\")"
   ]
  },
  {
   "cell_type": "code",
   "execution_count": 21,
   "id": "b44cb923",
   "metadata": {},
   "outputs": [
    {
     "name": "stdout",
     "output_type": "stream",
     "text": [
      "✅ MySQL connection established using pymysql!\n"
     ]
    }
   ],
   "source": [
    "# 4️⃣ Connect to MySQL using pymysql\n",
    "try:\n",
    "    conn_mysql = pymysql.connect(\n",
    "        host=\"localhost\",\n",
    "        user=\"root\",\n",
    "        password=\"572001\",\n",
    "        autocommit=True\n",
    "    )\n",
    "    cursor_mysql = conn_mysql.cursor()\n",
    "    print(\"✅ MySQL connection established using pymysql!\")\n",
    "except Exception as e:\n",
    "    print(\"❌ Error connecting to MySQL:\", e)\n",
    "    exit()"
   ]
  },
  {
   "cell_type": "code",
   "execution_count": 23,
   "id": "edb35cf3",
   "metadata": {},
   "outputs": [
    {
     "name": "stdout",
     "output_type": "stream",
     "text": [
      "✅ Table 'Digital_Ledger_data' created successfully!\n"
     ]
    }
   ],
   "source": [
    "cursor_mysql.execute(\"CREATE DATABASE IF NOT EXISTS Digital_Ledger_db;\")\n",
    "cursor_mysql.execute(\"USE Digital_Ledger_db;\")\n",
    "\n",
    "cursor_mysql.execute(\"\"\"\n",
    "CREATE TABLE IF NOT EXISTS Digital_Ledger_data (\n",
    "   stop_date DATE,\n",
    "   stop_time TIME,\n",
    "   country_name VARCHAR(50),\n",
    "   driver_gender VARCHAR(50),\n",
    "   driver_age_raw INT,\n",
    "   driver_age INT,\n",
    "   driver_race VARCHAR(50),\n",
    "   violation_raw VARCHAR(50),\n",
    "   violation VARCHAR(50),\n",
    "   search_conducted BOOLEAN,\n",
    "   search_type VARCHAR(50),\n",
    "   stop_outcome VARCHAR(50),\n",
    "   is_arrested BOOLEAN,\n",
    "   stop_duration VARCHAR(50),\n",
    "   drugs_related_stop BOOLEAN,\n",
    "   vehicle_number VARCHAR(50)\n",
    ");\n",
    "\"\"\")\n",
    "conn_mysql.commit()\n",
    "print(\"✅ Table 'Digital_Ledger_data' created successfully!\")"
   ]
  },
  {
   "cell_type": "code",
   "execution_count": 24,
   "id": "b8afefa9",
   "metadata": {},
   "outputs": [
    {
     "name": "stdout",
     "output_type": "stream",
     "text": [
      "✅ Data inserted successfully!\n"
     ]
    }
   ],
   "source": [
    "data_list = df.values.tolist()\n",
    "insert_query = \"\"\"\n",
    "INSERT INTO Digital_Ledger_data (\n",
    "    stop_date, stop_time, country_name, driver_gender,\n",
    "    driver_age_raw, driver_age, driver_race, violation_raw,\n",
    "    violation, search_conducted, search_type, stop_outcome,\n",
    "    is_arrested, stop_duration, drugs_related_stop, vehicle_number\n",
    ")\n",
    "VALUES (%s, %s, %s, %s, %s, %s, %s, %s, %s, %s, %s, %s, %s, %s, %s, %s);\n",
    "\"\"\"\n",
    "\n",
    "try:\n",
    "    cursor_mysql.executemany(insert_query, data_list)\n",
    "    conn_mysql.commit()\n",
    "    print(\"✅ Data inserted successfully!\")\n",
    "except Exception as e:\n",
    "    print(\"❌ Error during data insertion:\", e)"
   ]
  },
  {
   "cell_type": "code",
   "execution_count": 25,
   "id": "6cc4034f",
   "metadata": {},
   "outputs": [],
   "source": [
    "from tabulate import tabulate"
   ]
  },
  {
   "cell_type": "code",
   "execution_count": 26,
   "id": "9f80b968",
   "metadata": {},
   "outputs": [
    {
     "name": "stdout",
     "output_type": "stream",
     "text": [
      "\n",
      "🔹 Top 10 vehicles (drug-related):\n",
      "----------\n",
      "UP76DY3473\n",
      "RJ83PZ4441\n",
      "RJ32OM7264\n",
      "RJ76TI3807\n",
      "DL75KZ7835\n",
      "DL50PO5101\n",
      "UP67CQ9426\n",
      "KA61JB1004\n",
      "WB70IV9884\n",
      "WB75TF1052\n",
      "----------\n"
     ]
    }
   ],
   "source": [
    "# 1. Top 10 vehicle numbers involved in drug-related stops\n",
    "query1 = \"\"\"\n",
    "SELECT vehicle_number \n",
    "FROM Digital_Ledger_data \n",
    "WHERE drugs_related_stop = TRUE \n",
    "LIMIT 10;\n",
    "\"\"\"\n",
    "cursor_mysql.execute(query1)\n",
    "print(\"\\n🔹 Top 10 vehicles (drug-related):\")\n",
    "print(tabulate(cursor_mysql.fetchall()))"
   ]
  },
  {
   "cell_type": "code",
   "execution_count": 27,
   "id": "58ec840b",
   "metadata": {},
   "outputs": [
    {
     "name": "stdout",
     "output_type": "stream",
     "text": [
      "\n",
      "🔹 Most frequently searched vehicle:\n",
      "----------  -\n",
      "UP76DY3473  1\n",
      "----------  -\n"
     ]
    }
   ],
   "source": [
    "# 2. Vehicles most frequently searched\n",
    "query2 = \"\"\"\n",
    "SELECT vehicle_number, COUNT(*) AS search_count\n",
    "FROM Digital_Ledger_data\n",
    "GROUP BY vehicle_number\n",
    "ORDER BY search_count DESC\n",
    "LIMIT 1;\n",
    "\"\"\"\n",
    "cursor_mysql.execute(query2)\n",
    "print(\"\\n🔹 Most frequently searched vehicle:\")\n",
    "print(tabulate(cursor_mysql.fetchall()))"
   ]
  },
  {
   "cell_type": "code",
   "execution_count": 28,
   "id": "87f0a721",
   "metadata": {},
   "outputs": [
    {
     "name": "stdout",
     "output_type": "stream",
     "text": [
      "\n",
      "🔹 Highest arrest rate by driver age:\n",
      "--  ---\n",
      "28  580\n",
      "--  ---\n"
     ]
    }
   ],
   "source": [
    "# 3. Driver age group with highest arrest rate\n",
    "query3 = \"\"\"\n",
    "SELECT driver_age, COUNT(*) AS total\n",
    "FROM Digital_Ledger_data\n",
    "WHERE is_arrested = TRUE\n",
    "GROUP BY driver_age\n",
    "ORDER BY total DESC\n",
    "LIMIT 1;\n",
    "\"\"\"\n",
    "cursor_mysql.execute(query3)\n",
    "print(\"\\n🔹 Highest arrest rate by driver age:\")\n",
    "print(tabulate(cursor_mysql.fetchall()))"
   ]
  },
  {
   "cell_type": "code",
   "execution_count": 29,
   "id": "55f8f906",
   "metadata": {},
   "outputs": [
    {
     "name": "stdout",
     "output_type": "stream",
     "text": [
      "\n",
      "🔹 Gender distribution by country:\n",
      "------  -  -----\n",
      "Canada  F  10997\n",
      "Canada  M  10911\n",
      "India   F  11043\n",
      "India   M  10955\n",
      "USA     F  10841\n",
      "USA     M  10791\n",
      "------  -  -----\n"
     ]
    }
   ],
   "source": [
    "# 4. Gender distribution of drivers stopped in each country\n",
    "query4 = \"\"\"\n",
    "SELECT country_name, driver_gender, COUNT(*) AS total_stops\n",
    "FROM Digital_Ledger_data\n",
    "GROUP BY country_name, driver_gender\n",
    "ORDER BY country_name, total_stops DESC;\n",
    "\"\"\"\n",
    "cursor_mysql.execute(query4)\n",
    "print(\"\\n🔹 Gender distribution by country:\")\n",
    "print(tabulate(cursor_mysql.fetchall()))"
   ]
  },
  {
   "cell_type": "code",
   "execution_count": 30,
   "id": "25b9c633",
   "metadata": {},
   "outputs": [
    {
     "name": "stdout",
     "output_type": "stream",
     "text": [
      "\n",
      "🔹 Most searched race & gender:\n",
      "-----  -  ----\n",
      "Asian  F  3410\n",
      "-----  -  ----\n"
     ]
    }
   ],
   "source": [
    "# 5. Race & gender with most searches\n",
    "query5 = \"\"\"\n",
    "SELECT driver_race, driver_gender, COUNT(*) AS Count1\n",
    "FROM Digital_Ledger_data\n",
    "WHERE search_conducted = TRUE\n",
    "GROUP BY driver_race, driver_gender\n",
    "ORDER BY Count1 DESC LIMIT 1;\n",
    "\"\"\"\n",
    "cursor_mysql.execute(query5)\n",
    "print(\"\\n🔹 Most searched race & gender:\")\n",
    "print(tabulate(cursor_mysql.fetchall()))"
   ]
  },
  {
   "cell_type": "code",
   "execution_count": 31,
   "id": "0514bb92",
   "metadata": {},
   "outputs": [
    {
     "name": "stdout",
     "output_type": "stream",
     "text": [
      "\n",
      "🔹 Time of day with most stops:\n",
      "-  ----\n",
      "0  2760\n",
      "-  ----\n"
     ]
    }
   ],
   "source": [
    "# 7. Time of day with most stops\n",
    "query7 = \"\"\"\n",
    "SELECT HOUR(stop_time) AS hour_of_day, COUNT(*) AS stop_count\n",
    "FROM Digital_Ledger_data\n",
    "GROUP BY HOUR(stop_time)\n",
    "ORDER BY stop_count DESC\n",
    "LIMIT 1;\n",
    "\"\"\"\n",
    "cursor_mysql.execute(query7)\n",
    "print(\"\\n🔹 Time of day with most stops:\")\n",
    "print(tabulate(cursor_mysql.fetchall()))"
   ]
  },
  {
   "cell_type": "code",
   "execution_count": 32,
   "id": "d2ed9cfa",
   "metadata": {},
   "outputs": [
    {
     "name": "stdout",
     "output_type": "stream",
     "text": [
      "\n",
      "🔹 Avg stop duration by violation:\n",
      "--------  -------  -----\n",
      "Other     15.744   13194\n",
      "Seatbelt  15.3344  13007\n",
      "Speeding  15.2867  13150\n",
      "DUI       15.2349  13075\n",
      "Signal    15.202   13112\n",
      "--------  -------  -----\n"
     ]
    }
   ],
   "source": [
    "# 8. Average stop duration for violations\n",
    "query8 = \"\"\"\n",
    "SELECT violation, AVG(CAST(stop_duration AS SIGNED)) AS avg_stop_duration, COUNT(*) AS total_stops\n",
    "FROM Digital_Ledger_data\n",
    "GROUP BY violation\n",
    "ORDER BY avg_stop_duration DESC;\n",
    "\"\"\"\n",
    "cursor_mysql.execute(query8)\n",
    "print(\"\\n🔹 Avg stop duration by violation:\")\n",
    "print(tabulate(cursor_mysql.fetchall()))"
   ]
  },
  {
   "cell_type": "code",
   "execution_count": 33,
   "id": "524f99a1",
   "metadata": {},
   "outputs": [
    {
     "name": "stdout",
     "output_type": "stream",
     "text": [
      "\n",
      "🔹 Arrest rate by time period:\n",
      "----------  -----  -----  -----\n",
      "Daytime     40938  20647  50.43\n",
      "Night       10800   5419  50.18\n",
      "Late Night  13800   6780  49.13\n",
      "----------  -----  -----  -----\n"
     ]
    }
   ],
   "source": [
    "# 9. Arrest rate by time of day\n",
    "query9 = \"\"\"\n",
    "SELECT \n",
    "    CASE \n",
    "        WHEN HOUR(stop_time) BETWEEN 20 AND 23 THEN 'Night'\n",
    "        WHEN HOUR(stop_time) BETWEEN 0 AND 4 THEN 'Late Night'\n",
    "        ELSE 'Daytime'\n",
    "    END AS time_period,\n",
    "    COUNT(*) AS total_stops,\n",
    "    SUM(CASE WHEN is_arrested = TRUE THEN 1 ELSE 0 END) AS arrests,\n",
    "    ROUND(SUM(CASE WHEN is_arrested = TRUE THEN 1 ELSE 0 END) / COUNT(*) * 100, 2) AS arrest_rate_percent\n",
    "FROM Digital_Ledger_data\n",
    "GROUP BY time_period\n",
    "ORDER BY arrest_rate_percent DESC;\n",
    "\"\"\"\n",
    "cursor_mysql.execute(query9)\n",
    "print(\"\\n🔹 Arrest rate by time period:\")\n",
    "print(tabulate(cursor_mysql.fetchall()))"
   ]
  },
  {
   "cell_type": "code",
   "execution_count": 34,
   "id": "c5650df4",
   "metadata": {},
   "outputs": [
    {
     "name": "stdout",
     "output_type": "stream",
     "text": [
      "\n",
      "🔹 Top 3 violations (search/arrest):\n",
      "--------  ----\n",
      "Speeding  9868\n",
      "DUI       9867\n",
      "Other     9857\n",
      "--------  ----\n"
     ]
    }
   ],
   "source": [
    "# 10. Violations most associated with searches/arrests\n",
    "query10 = \"\"\"\n",
    "SELECT violation, COUNT(*) AS hg\n",
    "FROM Digital_Ledger_data\n",
    "WHERE search_conducted = TRUE OR is_arrested = TRUE\n",
    "GROUP BY violation\n",
    "ORDER BY hg DESC LIMIT 3;\n",
    "\"\"\"\n",
    "cursor_mysql.execute(query10)\n",
    "print(\"\\n🔹 Top 3 violations (search/arrest):\")\n",
    "print(tabulate(cursor_mysql.fetchall()))"
   ]
  },
  {
   "cell_type": "code",
   "execution_count": 35,
   "id": "661b7a22",
   "metadata": {},
   "outputs": [
    {
     "name": "stdout",
     "output_type": "stream",
     "text": [
      "\n",
      "🔹 Most common violation (<25):\n",
      "--------  ----\n",
      "Speeding  1476\n",
      "--------  ----\n"
     ]
    }
   ],
   "source": [
    "# 11. Most common violations among drivers under 25\n",
    "query11 = \"\"\"\n",
    "SELECT violation, COUNT(*) AS aba\n",
    "FROM Digital_Ledger_data\n",
    "WHERE driver_age < 25\n",
    "GROUP BY violation\n",
    "ORDER BY aba DESC LIMIT 1;\n",
    "\"\"\"\n",
    "cursor_mysql.execute(query11)\n",
    "print(\"\\n🔹 Most common violation (<25):\")\n",
    "print(tabulate(cursor_mysql.fetchall()))"
   ]
  },
  {
   "cell_type": "code",
   "execution_count": 36,
   "id": "e1361a41",
   "metadata": {},
   "outputs": [
    {
     "name": "stdout",
     "output_type": "stream",
     "text": [
      "\n",
      "🔹 Rare violations: NONE\n"
     ]
    }
   ],
   "source": [
    "# 12. Violations rarely resulting in search/arrest\n",
    "query12 = \"\"\"\n",
    "SELECT violation, COUNT(*) AS aba\n",
    "FROM Digital_Ledger_data\n",
    "WHERE search_conducted = TRUE OR is_arrested = TRUE\n",
    "GROUP BY violation\n",
    "HAVING aba < 10\n",
    "ORDER BY aba LIMIT 1;\n",
    "\"\"\"\n",
    "cursor_mysql.execute(query12)\n",
    "records = cursor_mysql.fetchall()\n",
    "if not records:\n",
    "    print(\"\\n🔹 Rare violations: NONE\")\n",
    "else:\n",
    "    print(\"\\n🔹 Rare violations:\")\n",
    "    print(tabulate(records))"
   ]
  },
  {
   "cell_type": "code",
   "execution_count": 37,
   "id": "5c2046a5",
   "metadata": {},
   "outputs": [
    {
     "name": "stdout",
     "output_type": "stream",
     "text": [
      "\n",
      "🔹 Top 5 countries (drug-related):\n",
      "------  -----\n",
      "Canada  10976\n",
      "India   10897\n",
      "USA     10896\n",
      "------  -----\n"
     ]
    }
   ],
   "source": [
    "# 13. Countries with highest drug-related stops\n",
    "query13 = \"\"\"\n",
    "SELECT country_name, COUNT(*) AS ds\n",
    "FROM Digital_Ledger_data\n",
    "WHERE drugs_related_stop = TRUE\n",
    "GROUP BY country_name\n",
    "ORDER BY ds DESC LIMIT 5;\n",
    "\"\"\"\n",
    "cursor_mysql.execute(query13)\n",
    "print(\"\\n🔹 Top 5 countries (drug-related):\")\n",
    "print(tabulate(cursor_mysql.fetchall()))"
   ]
  },
  {
   "cell_type": "code",
   "execution_count": 38,
   "id": "c418cddf",
   "metadata": {},
   "outputs": [
    {
     "name": "stdout",
     "output_type": "stream",
     "text": [
      "\n",
      "🔹 Arrest rate by country & violation:\n",
      "------  --------  ----  ----  -----\n",
      "Canada  DUI       2257  4414  51.13\n",
      "India   DUI       2247  4420  50.84\n",
      "India   Speeding  2212  4358  50.76\n",
      "India   Signal    2251  4444  50.65\n",
      "USA     Seatbelt  2145  4241  50.58\n",
      "------  --------  ----  ----  -----\n"
     ]
    }
   ],
   "source": [
    "# 14. Arrest rate by country and violation\n",
    "query14 = \"\"\"\n",
    "SELECT country_name, violation,\n",
    "    SUM(CASE WHEN is_arrested = TRUE THEN 1 ELSE 0 END) AS arrest_count,\n",
    "    COUNT(*) AS total_count,\n",
    "    ROUND(SUM(CASE WHEN is_arrested = TRUE THEN 1 ELSE 0 END) / COUNT(*) * 100, 2) AS arrest_rate_percent\n",
    "FROM Digital_Ledger_data\n",
    "GROUP BY country_name, violation\n",
    "ORDER BY arrest_rate_percent DESC LIMIT 5;\n",
    "\"\"\"\n",
    "cursor_mysql.execute(query14)\n",
    "print(\"\\n🔹 Arrest rate by country & violation:\")\n",
    "print(tabulate(cursor_mysql.fetchall()))"
   ]
  },
  {
   "cell_type": "code",
   "execution_count": 39,
   "id": "3df4c9fc",
   "metadata": {},
   "outputs": [
    {
     "name": "stdout",
     "output_type": "stream",
     "text": [
      "\n",
      "🔹 Country with most searches:\n",
      "------  -----\n",
      "Canada  11020\n",
      "------  -----\n"
     ]
    }
   ],
   "source": [
    "# 15. Country with most searches conducted\n",
    "query15 = \"\"\"\n",
    "SELECT country_name, COUNT(*) AS df\n",
    "FROM Digital_Ledger_data\n",
    "WHERE search_conducted = TRUE\n",
    "GROUP BY country_name\n",
    "ORDER BY df DESC LIMIT 1;\n",
    "\"\"\"\n",
    "cursor_mysql.execute(query15)\n",
    "print(\"\\n🔹 Country with most searches:\")\n",
    "print(tabulate(cursor_mysql.fetchall()))"
   ]
  },
  {
   "cell_type": "code",
   "execution_count": 40,
   "id": "ec23e66f",
   "metadata": {},
   "outputs": [
    {
     "name": "stdout",
     "output_type": "stream",
     "text": [
      "\n",
      "🔹 Yearly breakdown of stops & arrests:\n",
      "------  ----  -----  -----  -----\n",
      "Canada  2020  21908  10999  10999\n",
      "India   2020  21998  11091  11091\n",
      "USA     2020  21632  10756  10756\n",
      "------  ----  -----  -----  -----\n"
     ]
    }
   ],
   "source": [
    "# C1. Yearly Breakdown of Stops and Arrests by Country\n",
    "queryc1 = \"\"\"\n",
    "SELECT \n",
    "    country_name,\n",
    "    year,\n",
    "    COUNT(*) AS total_stops,\n",
    "    SUM(is_arrested) AS total_arrests,\n",
    "    SUM(SUM(is_arrested)) OVER (PARTITION BY country_name ORDER BY year) AS cumulative_arrests\n",
    "FROM (\n",
    "    SELECT country_name, YEAR(stop_date) AS year, is_arrested\n",
    "    FROM Digital_Ledger_data\n",
    ") AS sub\n",
    "GROUP BY country_name, year\n",
    "ORDER BY country_name, year;\n",
    "\"\"\"\n",
    "cursor_mysql.execute(queryc1)\n",
    "print(\"\\n🔹 Yearly breakdown of stops & arrests:\")\n",
    "print(tabulate(cursor_mysql.fetchall()))"
   ]
  },
  {
   "cell_type": "code",
   "execution_count": 41,
   "id": "ae4c4357",
   "metadata": {},
   "outputs": [
    {
     "name": "stdout",
     "output_type": "stream",
     "text": [
      "\n",
      "🔹 Violation pattern by age group & race:\n",
      "--------  --------  --------  ---\n",
      "25-40     Asian     Signal    704\n",
      "25-40     Asian     Speeding  697\n",
      "25-40     Asian     DUI       682\n",
      "25-40     Asian     Other     678\n",
      "25-40     Asian     Seatbelt  672\n",
      "25-40     Black     Seatbelt  670\n",
      "25-40     Black     DUI       669\n",
      "25-40     Black     Speeding  665\n",
      "25-40     Black     Signal    659\n",
      "25-40     Black     Other     639\n",
      "25-40     Hispanic  Seatbelt  677\n",
      "25-40     Hispanic  Other     672\n",
      "25-40     Hispanic  DUI       667\n",
      "25-40     Hispanic  Speeding  661\n",
      "25-40     Hispanic  Signal    655\n",
      "25-40     Other     Speeding  681\n",
      "25-40     Other     DUI       675\n",
      "25-40     Other     Seatbelt  668\n",
      "25-40     Other     Other     667\n",
      "25-40     Other     Signal    615\n",
      "25-40     White     Signal    682\n",
      "25-40     White     Other     672\n",
      "25-40     White     Seatbelt  644\n",
      "25-40     White     Speeding  643\n",
      "25-40     White     DUI       633\n",
      "41-60     Asian     Other     832\n",
      "41-60     Asian     Signal    828\n",
      "41-60     Asian     DUI       824\n",
      "41-60     Asian     Speeding  813\n",
      "41-60     Asian     Seatbelt  812\n",
      "41-60     Black     Speeding  856\n",
      "41-60     Black     Other     854\n",
      "41-60     Black     DUI       851\n",
      "41-60     Black     Seatbelt  843\n",
      "41-60     Black     Signal    803\n",
      "41-60     Hispanic  Seatbelt  855\n",
      "41-60     Hispanic  DUI       835\n",
      "41-60     Hispanic  Other     831\n",
      "41-60     Hispanic  Signal    825\n",
      "41-60     Hispanic  Speeding  821\n",
      "41-60     Other     Signal    867\n",
      "41-60     Other     Seatbelt  851\n",
      "41-60     Other     DUI       844\n",
      "41-60     Other     Other     810\n",
      "41-60     Other     Speeding  804\n",
      "41-60     White     Speeding  892\n",
      "41-60     White     Signal    874\n",
      "41-60     White     Other     860\n",
      "41-60     White     DUI       823\n",
      "41-60     White     Seatbelt  810\n",
      "60+       Asian     Speeding  866\n",
      "60+       Asian     Other     864\n",
      "60+       Asian     DUI       846\n",
      "60+       Asian     Signal    833\n",
      "60+       Asian     Seatbelt  778\n",
      "60+       Black     DUI       866\n",
      "60+       Black     Other     853\n",
      "60+       Black     Signal    828\n",
      "60+       Black     Seatbelt  822\n",
      "60+       Black     Speeding  804\n",
      "60+       Hispanic  Other     845\n",
      "60+       Hispanic  Signal    845\n",
      "60+       Hispanic  DUI       808\n",
      "60+       Hispanic  Seatbelt  808\n",
      "60+       Hispanic  Speeding  797\n",
      "60+       Other     Other     857\n",
      "60+       Other     Seatbelt  856\n",
      "60+       Other     Signal    840\n",
      "60+       Other     DUI       832\n",
      "60+       Other     Speeding  829\n",
      "60+       White     DUI       861\n",
      "60+       White     Speeding  845\n",
      "60+       White     Other     838\n",
      "60+       White     Signal    827\n",
      "60+       White     Seatbelt  821\n",
      "Under 25  Asian     Speeding  303\n",
      "Under 25  Asian     Seatbelt  294\n",
      "Under 25  Asian     Other     269\n",
      "Under 25  Asian     DUI       261\n",
      "Under 25  Asian     Signal    255\n",
      "Under 25  Black     Speeding  323\n",
      "Under 25  Black     Signal    312\n",
      "Under 25  Black     Other     289\n",
      "Under 25  Black     DUI       264\n",
      "Under 25  Black     Seatbelt  261\n",
      "Under 25  Hispanic  Other     300\n",
      "Under 25  Hispanic  DUI       291\n",
      "Under 25  Hispanic  Seatbelt  277\n",
      "Under 25  Hispanic  Signal    270\n",
      "Under 25  Hispanic  Speeding  266\n",
      "Under 25  Other     Seatbelt  302\n",
      "Under 25  Other     Speeding  287\n",
      "Under 25  Other     Signal    286\n",
      "Under 25  Other     Other     282\n",
      "Under 25  Other     DUI       269\n",
      "Under 25  White     Signal    304\n",
      "Under 25  White     Speeding  297\n",
      "Under 25  White     Seatbelt  286\n",
      "Under 25  White     Other     282\n",
      "Under 25  White     DUI       274\n",
      "--------  --------  --------  ---\n"
     ]
    }
   ],
   "source": [
    "# C2. Violation pattern by driver age group and race\n",
    "queryc2 = \"\"\"\n",
    "SELECT \n",
    "    v.driver_age_group,\n",
    "    v.driver_race,\n",
    "    v.violation,\n",
    "    COUNT(*) AS total_violations\n",
    "FROM (\n",
    "    SELECT \n",
    "        driver_age,\n",
    "        driver_race,\n",
    "        violation,\n",
    "        CASE \n",
    "            WHEN driver_age < 25 THEN 'Under 25'\n",
    "            WHEN driver_age BETWEEN 25 AND 40 THEN '25-40'\n",
    "            WHEN driver_age BETWEEN 41 AND 60 THEN '41-60'\n",
    "            ELSE '60+'\n",
    "        END AS driver_age_group\n",
    "    FROM Digital_Ledger_data\n",
    ") AS v\n",
    "GROUP BY v.driver_age_group, v.driver_race, v.violation\n",
    "ORDER BY v.driver_age_group, v.driver_race, total_violations DESC;\n",
    "\"\"\"\n",
    "cursor_mysql.execute(queryc2)\n",
    "print(\"\\n🔹 Violation pattern by age group & race:\")\n",
    "print(tabulate(cursor_mysql.fetchall()))"
   ]
  },
  {
   "cell_type": "code",
   "execution_count": 42,
   "id": "fdfc52e3",
   "metadata": {},
   "outputs": [
    {
     "name": "stdout",
     "output_type": "stream",
     "text": [
      "\n",
      "🔹 Stop pattern by year, month, hour:\n",
      "----  -  --  ----\n",
      "2020  1   0  1860\n",
      "2020  1   1  1860\n",
      "2020  1   2  1860\n",
      "2020  1   3  1860\n",
      "2020  1   4  1860\n",
      "2020  1   5  1860\n",
      "2020  1   6  1860\n",
      "2020  1   7  1860\n",
      "2020  1   8  1860\n",
      "2020  1   9  1860\n",
      "2020  1  10  1860\n",
      "2020  1  11  1860\n",
      "2020  1  12  1860\n",
      "2020  1  13  1860\n",
      "2020  1  14  1860\n",
      "2020  1  15  1860\n",
      "2020  1  16  1860\n",
      "2020  1  17  1860\n",
      "2020  1  18  1860\n",
      "2020  1  19  1860\n",
      "2020  1  20  1860\n",
      "2020  1  21  1860\n",
      "2020  1  22  1860\n",
      "2020  1  23  1860\n",
      "2020  2   0   900\n",
      "2020  2   1   900\n",
      "2020  2   2   900\n",
      "2020  2   3   900\n",
      "2020  2   4   900\n",
      "2020  2   5   900\n",
      "2020  2   6   900\n",
      "2020  2   7   900\n",
      "2020  2   8   900\n",
      "2020  2   9   900\n",
      "2020  2  10   900\n",
      "2020  2  11   900\n",
      "2020  2  12   858\n",
      "2020  2  13   840\n",
      "2020  2  14   840\n",
      "2020  2  15   840\n",
      "2020  2  16   840\n",
      "2020  2  17   840\n",
      "2020  2  18   840\n",
      "2020  2  19   840\n",
      "2020  2  20   840\n",
      "2020  2  21   840\n",
      "2020  2  22   840\n",
      "2020  2  23   840\n",
      "----  -  --  ----\n"
     ]
    }
   ],
   "source": [
    "# C3. Stop pattern by year, month, and hour\n",
    "queryc3 = \"\"\"\n",
    "SELECT \n",
    "    t.year,\n",
    "    t.month,\n",
    "    t.hour,\n",
    "    COUNT(*) AS total_stops\n",
    "FROM (\n",
    "    SELECT\n",
    "        YEAR(stop_date) AS year,\n",
    "        MONTH(stop_date) AS month,\n",
    "        HOUR(stop_time) AS hour\n",
    "    FROM Digital_Ledger_data\n",
    ") AS t\n",
    "GROUP BY t.year, t.month, t.hour\n",
    "ORDER BY t.year, t.month, t.hour;\n",
    "\"\"\"\n",
    "cursor_mysql.execute(queryc3)\n",
    "print(\"\\n🔹 Stop pattern by year, month, hour:\")\n",
    "print(tabulate(cursor_mysql.fetchall()))"
   ]
  },
  {
   "cell_type": "code",
   "execution_count": 43,
   "id": "3cf66c5e",
   "metadata": {},
   "outputs": [
    {
     "name": "stdout",
     "output_type": "stream",
     "text": [
      "\n",
      "🔹 Top 10 violations by arrest rate:\n",
      "--------  -----  ----  ----  -----  -----  -\n",
      "DUI       13075  6481  6610  49.57  50.55  1\n",
      "Seatbelt  13007  6562  6573  50.45  50.53  2\n",
      "Speeding  13150  6573  6598  49.98  50.17  3\n",
      "Signal    13112  6509  6549  49.64  49.95  4\n",
      "Other     13194  6576  6516  49.84  49.39  5\n",
      "--------  -----  ----  ----  -----  -----  -\n"
     ]
    }
   ],
   "source": [
    "# C4. Top 10 violations by arrest rate\n",
    "queryc4 = \"\"\"\n",
    "SELECT \n",
    "    violation,\n",
    "    COUNT(*) AS total_stops,\n",
    "    SUM(search_conducted) AS total_searches,\n",
    "    SUM(is_arrested) AS total_arrests,\n",
    "    ROUND(100 * SUM(search_conducted) / COUNT(*), 2) AS search_rate,\n",
    "    ROUND(100 * SUM(is_arrested) / COUNT(*), 2) AS arrest_rate,\n",
    "    RANK() OVER (ORDER BY ROUND(100 * SUM(is_arrested) / COUNT(*), 2) DESC) AS arrest_rank\n",
    "FROM Digital_Ledger_data\n",
    "GROUP BY violation\n",
    "ORDER BY arrest_rate DESC\n",
    "LIMIT 10;\n",
    "\"\"\"\n",
    "cursor_mysql.execute(queryc4)\n",
    "print(\"\\n🔹 Top 10 violations by arrest rate:\")\n",
    "print(tabulate(cursor_mysql.fetchall()))"
   ]
  },
  {
   "cell_type": "code",
   "execution_count": 44,
   "id": "d7e61036",
   "metadata": {},
   "outputs": [
    {
     "name": "stdout",
     "output_type": "stream",
     "text": [
      "\n",
      "🔹 Country-level demographics:\n",
      "------  ----  -  -  -----\n",
      "India   49.1  2  5  21998\n",
      "Canada  49.1  2  5  21908\n",
      "USA     49.1  2  5  21632\n",
      "------  ----  -  -  -----\n"
     ]
    }
   ],
   "source": [
    "# C5. Country-level driver demographics\n",
    "queryc5 = \"\"\"\n",
    "SELECT \n",
    "    country_name,\n",
    "    ROUND(AVG(driver_age), 1) AS avg_age,\n",
    "    COUNT(DISTINCT driver_gender) AS gender_diversity,\n",
    "    COUNT(DISTINCT driver_race) AS race_diversity,\n",
    "    COUNT(*) AS total_drivers\n",
    "FROM Digital_Ledger_data\n",
    "GROUP BY country_name\n",
    "ORDER BY total_drivers DESC;\n",
    "\"\"\"\n",
    "cursor_mysql.execute(queryc5)\n",
    "print(\"\\n🔹 Country-level demographics:\")\n",
    "print(tabulate(cursor_mysql.fetchall()))"
   ]
  },
  {
   "cell_type": "code",
   "execution_count": 47,
   "id": "ee64d104",
   "metadata": {},
   "outputs": [
    {
     "name": "stdout",
     "output_type": "stream",
     "text": [
      "\n",
      "🔹 Violations with highest arrest rate:\n",
      "--------  -----  ----  -----\n",
      "DUI       13075  6610  50.55\n",
      "Seatbelt  13007  6573  50.53\n",
      "Speeding  13150  6598  50.17\n",
      "Signal    13112  6549  49.95\n",
      "Other     13194  6516  49.39\n",
      "--------  -----  ----  -----\n"
     ]
    }
   ],
   "source": [
    "queryc6 = \"\"\"\n",
    "SELECT \n",
    "    violation,\n",
    "    COUNT(*) AS total_stops,\n",
    "    SUM(is_arrested) AS total_arrests,\n",
    "    ROUND(100 * SUM(is_arrested) / COUNT(*), 2) AS arrest_rate\n",
    "FROM Digital_Ledger_data\n",
    "GROUP BY violation\n",
    "ORDER BY arrest_rate DESC\n",
    "LIMIT 5;\n",
    "\"\"\"\n",
    "cursor_mysql.execute(queryc6)\n",
    "print(\"\\n🔹 Violations with highest arrest rate:\")\n",
    "print(tabulate(cursor_mysql.fetchall()))"
   ]
  },
  {
   "cell_type": "code",
   "execution_count": 48,
   "id": "c46ba62e",
   "metadata": {},
   "outputs": [
    {
     "name": "stdout",
     "output_type": "stream",
     "text": [
      "\n",
      "✅ MySQL connection closed successfully!\n"
     ]
    }
   ],
   "source": [
    "cursor_mysql.close()\n",
    "conn_mysql.close()\n",
    "print(\"\\n✅ MySQL connection closed successfully!\")"
   ]
  }
 ],
 "metadata": {
  "kernelspec": {
   "display_name": ".venv (3.10.11)",
   "language": "python",
   "name": "python3"
  },
  "language_info": {
   "codemirror_mode": {
    "name": "ipython",
    "version": 3
   },
   "file_extension": ".py",
   "mimetype": "text/x-python",
   "name": "python",
   "nbconvert_exporter": "python",
   "pygments_lexer": "ipython3",
   "version": "3.10.11"
  }
 },
 "nbformat": 4,
 "nbformat_minor": 5
}
